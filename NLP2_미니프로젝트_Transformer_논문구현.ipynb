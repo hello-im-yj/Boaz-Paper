{
  "nbformat": 4,
  "nbformat_minor": 0,
  "metadata": {
    "colab": {
      "name": "네이버 영화 리뷰_Transformer.ipynb",
      "provenance": [],
      "collapsed_sections": [
        "f_szYT1ATYej",
        "nqkBuH3zT-sx",
        "o59Y8o5VXvPI",
        "YM4uAkqZWDx0",
        "aHWzKSdyXKHS",
        "Y_fxWri9X0cF",
        "0Yk-m7-4XzdM"
      ],
      "toc_visible": true,
      "machine_shape": "hm"
    },
    "kernelspec": {
      "name": "python3",
      "display_name": "Python 3"
    },
    "language_info": {
      "name": "python"
    },
    "accelerator": "GPU"
  },
  "cells": [
    {
      "cell_type": "code",
      "metadata": {
        "id": "4OYR1oBA2ZAs"
      },
      "source": [
        "# !wget https://raw.githubusercontent.com/e9t/nsmc/master/ratings_train.txt\n",
        "# !wget https://raw.githubusercontent.com/e9t/nsmc/master/ratings_test.txt"
      ],
      "execution_count": 1,
      "outputs": []
    },
    {
      "cell_type": "code",
      "metadata": {
        "colab": {
          "base_uri": "https://localhost:8080/"
        },
        "id": "2TZxLWK33wyu",
        "outputId": "c7754f60-21de-4077-8170-0f05cb000fe2"
      },
      "source": [
        "!pip install sentencepiece"
      ],
      "execution_count": 2,
      "outputs": [
        {
          "output_type": "stream",
          "text": [
            "Collecting sentencepiece\n",
            "\u001b[?25l  Downloading https://files.pythonhosted.org/packages/f5/99/e0808cb947ba10f575839c43e8fafc9cc44e4a7a2c8f79c60db48220a577/sentencepiece-0.1.95-cp37-cp37m-manylinux2014_x86_64.whl (1.2MB)\n",
            "\u001b[K     |████████████████████████████████| 1.2MB 13.5MB/s \n",
            "\u001b[?25hInstalling collected packages: sentencepiece\n",
            "Successfully installed sentencepiece-0.1.95\n"
          ],
          "name": "stdout"
        }
      ]
    },
    {
      "cell_type": "code",
      "metadata": {
        "id": "-Bsn4x1B_fuS"
      },
      "source": [
        "import sentencepiece as spm\n",
        "import pandas as pd\n",
        "import numpy as np\n",
        "from tqdm import tqdm\n",
        "import matplotlib.pyplot as plt\n",
        "import json"
      ],
      "execution_count": 3,
      "outputs": []
    },
    {
      "cell_type": "markdown",
      "metadata": {
        "id": "-MokZN6uUV2L"
      },
      "source": [
        "# 감정분석 데이터 전처리"
      ]
    },
    {
      "cell_type": "code",
      "metadata": {
        "id": "ivvRCaAW4pDi"
      },
      "source": [
        "path = \"/content/drive/MyDrive/네이버 영화 분류/\""
      ],
      "execution_count": 4,
      "outputs": []
    },
    {
      "cell_type": "code",
      "metadata": {
        "id": "z7q4hJhTfg64",
        "colab": {
          "base_uri": "https://localhost:8080/"
        },
        "outputId": "1649d70d-00ec-4d7a-82cb-599a66e3ed5d"
      },
      "source": [
        "vocab_file = path + \"kowiki.model\"\n",
        "vocab = spm.SentencePieceProcessor()\n",
        "vocab.load(vocab_file)"
      ],
      "execution_count": 5,
      "outputs": [
        {
          "output_type": "execute_result",
          "data": {
            "text/plain": [
              "True"
            ]
          },
          "metadata": {
            "tags": []
          },
          "execution_count": 5
        }
      ]
    },
    {
      "cell_type": "code",
      "metadata": {
        "id": "tqmPAIY2j5yu"
      },
      "source": [
        "\"\"\" train data 준비 \"\"\"\n",
        "def prepare_train(vocab, infile, outfile):\n",
        "    df = pd.read_csv(infile, sep=\"\\t\", engine=\"python\")\n",
        "    with open(outfile, \"w\") as f:\n",
        "        for index, row in df.iterrows():\n",
        "            document = row[\"document\"]\n",
        "            if type(document) != str:\n",
        "                continue\n",
        "            instance = { \"id\": row[\"id\"], \"doc\": vocab.encode_as_pieces(document), \"label\": row[\"label\"] }\n",
        "            f.write(json.dumps(instance))\n",
        "            f.write(\"\\n\")\n",
        "\n",
        "prepare_train(vocab, path + 'ratings_train.txt', path + 'ratings_train.json')\n",
        "prepare_train(vocab, path + 'ratings_test.txt', path + 'ratings_test.json')"
      ],
      "execution_count": 6,
      "outputs": []
    },
    {
      "cell_type": "markdown",
      "metadata": {
        "id": "iLkVjWOu5UFu"
      },
      "source": [
        "# Transformer Example"
      ]
    },
    {
      "cell_type": "code",
      "metadata": {
        "id": "_gzMK-Nj6BG5"
      },
      "source": [
        "import torch\n",
        "from torch import nn"
      ],
      "execution_count": 7,
      "outputs": []
    },
    {
      "cell_type": "markdown",
      "metadata": {
        "id": "q7YxOIRhKRRS"
      },
      "source": [
        "### ex)"
      ]
    },
    {
      "cell_type": "code",
      "metadata": {
        "colab": {
          "base_uri": "https://localhost:8080/"
        },
        "id": "6w8S0NYC87v6",
        "outputId": "0181ea8b-8a61-48f3-be3b-22a5635533ac"
      },
      "source": [
        "# Example\n",
        "lines = [\"벌써 여름인가 봐요.\", \"카페에 에어컨이 강하네요.\"]\n",
        "\n",
        "inputs = []\n",
        "for l in lines:\n",
        "  pieces = vocab.encode_as_pieces(l)\n",
        "  ids = vocab.encode_as_ids(l)\n",
        "  inputs.append(torch.tensor(ids))\n",
        "\n",
        "# 최대 길이에 맞게 padding(0) 추가\n",
        "inputs = torch.nn.utils.rnn.pad_sequence(inputs, batch_first= True, padding_value= 0)\n",
        "print(inputs)"
      ],
      "execution_count": 8,
      "outputs": [
        {
          "output_type": "stream",
          "text": [
            "tensor([[ 810, 4096, 2345, 3619, 3599, 3587, 4805, 3760, 3590,    0,    0,    0],\n",
            "        [ 210, 3896, 3591,  180, 3624, 4253, 3588,  138, 3596, 3857, 3760, 3590]])\n"
          ],
          "name": "stdout"
        }
      ]
    },
    {
      "cell_type": "code",
      "metadata": {
        "colab": {
          "base_uri": "https://localhost:8080/"
        },
        "id": "Ht9gSx2k9mLH",
        "outputId": "1274d721-e153-434c-eb42-978b897be77f"
      },
      "source": [
        "print(pieces)"
      ],
      "execution_count": 9,
      "outputs": [
        {
          "output_type": "stream",
          "text": [
            "['▁카', '페', '에', '▁에', '어', '컨', '이', '▁강', '하', '네', '요', '.']\n"
          ],
          "name": "stdout"
        }
      ]
    },
    {
      "cell_type": "code",
      "metadata": {
        "colab": {
          "base_uri": "https://localhost:8080/"
        },
        "id": "vnBbmLgd9uLd",
        "outputId": "ee34b62d-f470-4c12-832c-d86a8bcdf398"
      },
      "source": [
        "inputs.size()"
      ],
      "execution_count": 10,
      "outputs": [
        {
          "output_type": "execute_result",
          "data": {
            "text/plain": [
              "torch.Size([2, 12])"
            ]
          },
          "metadata": {
            "tags": []
          },
          "execution_count": 10
        }
      ]
    },
    {
      "cell_type": "markdown",
      "metadata": {
        "id": "hL1EmGTpDfh6"
      },
      "source": [
        "## 1. Input Embedding"
      ]
    },
    {
      "cell_type": "code",
      "metadata": {
        "colab": {
          "base_uri": "https://localhost:8080/"
        },
        "id": "HFWiV_iy5T4m",
        "outputId": "b586f631-d1b4-4302-9345-ca2b2751d0b5"
      },
      "source": [
        "n_vocab = len(vocab)\n",
        "d_hidn = 128\n",
        "nn_emb = nn.Embedding(n_vocab, d_hidn) # embedding 객체\n",
        "\n",
        "input_embs = nn_emb(inputs) # input embedding\n",
        "input_embs.size()"
      ],
      "execution_count": 11,
      "outputs": [
        {
          "output_type": "execute_result",
          "data": {
            "text/plain": [
              "torch.Size([2, 12, 128])"
            ]
          },
          "metadata": {
            "tags": []
          },
          "execution_count": 11
        }
      ]
    },
    {
      "cell_type": "markdown",
      "metadata": {
        "id": "mqSqz_Nj8q4b"
      },
      "source": [
        "## 2. Position Embedding\n",
        "- position encoding  \n",
        "  1) 각 position별 angle 값을 구함  \n",
        "  2) 구해진 angle 중 짝수 idx 값에 대한 sin값  \n",
        "  3) 구해진 angle 중 홀수 idx 값에 대한 cos값"
      ]
    },
    {
      "cell_type": "code",
      "metadata": {
        "id": "DjuGD4yo5QLx"
      },
      "source": [
        "# 삼각비 position embedding\n",
        "def get_sinusoid_encoding_table(seq, hidn):\n",
        "  def cal_angle(p, i):\n",
        "    return p / np.power(10000, 2 * (i // 2) / hidn)\n",
        "  \n",
        "  def get_posi_angle_vec(position):\n",
        "    return [cal_angle(position, i_hidn) for i_hidn in range(hidn)]\n",
        "\n",
        "  sinusoid_table = np.array([get_posi_angle_vec(i_seq) for i_seq in range(seq)])\n",
        "  sinusoid_table[:, 0::2] = np.sin(sinusoid_table[:, 0::2]) # 짝수 sin\n",
        "  sinusoid_table[:, 1::2] = np.cos(sinusoid_table[:, 1::2]) # 홀수 cos\n",
        "  \n",
        "  return sinusoid_table"
      ],
      "execution_count": 12,
      "outputs": []
    },
    {
      "cell_type": "code",
      "metadata": {
        "colab": {
          "base_uri": "https://localhost:8080/",
          "height": 283
        },
        "id": "FbFWRnM2_SR-",
        "outputId": "53d32f57-b305-4431-a01c-09566c1fd311"
      },
      "source": [
        "n_seq = 64\n",
        "pos_encoding = get_sinusoid_encoding_table(n_seq, d_hidn)\n",
        "\n",
        "plt.pcolormesh(pos_encoding, cmap='RdBu')\n",
        "plt.xlabel('Depth')\n",
        "plt.xlim((0, d_hidn))\n",
        "plt.ylabel('Position')\n",
        "plt.colorbar()\n",
        "plt.show()"
      ],
      "execution_count": 13,
      "outputs": [
        {
          "output_type": "display_data",
          "data": {
            "image/png": "[encoded data removed]",
            "text/plain": [
              "<Figure size 432x288 with 2 Axes>"
            ]
          },
          "metadata": {
            "tags": [],
            "needs_background": "light"
          }
        }
      ]
    },
    {
      "cell_type": "markdown",
      "metadata": {
        "id": "2Tr0egRC_8zn"
      },
      "source": [
        "- position embedding  \n",
        "  1) encoding 값으로 embedding 생성, 학습된게 아니기 때문에 fress = True  \n",
        "  2) `inputs`와 같은 크기의 `positions`값 구함  \n",
        "  3) input값 중 pad(0) 찾아 동일 위치의 position을 0으로 변경  \n",
        "  4) `positions`에 해당하는 embedding값을 구함"
      ]
    },
    {
      "cell_type": "code",
      "metadata": {
        "id": "E9PLwDME_7Op"
      },
      "source": [
        "pos_encoding = torch.FloatTensor(pos_encoding)\n",
        "nn_pos = nn.Embedding.from_pretrained(pos_encoding, freeze = True)\n",
        "\n",
        "positions = torch.arange(inputs.size(1), device = inputs.device, dtype = inputs.dtype)\\\n",
        "                .expand(inputs.size(0), inputs.size(1)).contiguous() + 1\n",
        "pos_mask = inputs.eq(0)\n",
        "\n",
        "positions.masked_fill_(pos_mask, 0)\n",
        "pos_embs = nn_pos(positions)"
      ],
      "execution_count": 14,
      "outputs": []
    },
    {
      "cell_type": "code",
      "metadata": {
        "colab": {
          "base_uri": "https://localhost:8080/"
        },
        "id": "xISlEh5f_b8z",
        "outputId": "2d35b758-73af-4101-b80b-7cc96b799128"
      },
      "source": [
        "inputs, positions"
      ],
      "execution_count": 15,
      "outputs": [
        {
          "output_type": "execute_result",
          "data": {
            "text/plain": [
              "(tensor([[ 810, 4096, 2345, 3619, 3599, 3587, 4805, 3760, 3590,    0,    0,    0],\n",
              "         [ 210, 3896, 3591,  180, 3624, 4253, 3588,  138, 3596, 3857, 3760, 3590]]),\n",
              " tensor([[ 1,  2,  3,  4,  5,  6,  7,  8,  9,  0,  0,  0],\n",
              "         [ 1,  2,  3,  4,  5,  6,  7,  8,  9, 10, 11, 12]]))"
            ]
          },
          "metadata": {
            "tags": []
          },
          "execution_count": 15
        }
      ]
    },
    {
      "cell_type": "code",
      "metadata": {
        "colab": {
          "base_uri": "https://localhost:8080/"
        },
        "id": "nKA_YhYyC6B2",
        "outputId": "cebd3456-edf4-475c-8898-3bf0be28f5b0"
      },
      "source": [
        "pos_embs.size()"
      ],
      "execution_count": 16,
      "outputs": [
        {
          "output_type": "execute_result",
          "data": {
            "text/plain": [
              "torch.Size([2, 12, 128])"
            ]
          },
          "metadata": {
            "tags": []
          },
          "execution_count": 16
        }
      ]
    },
    {
      "cell_type": "code",
      "metadata": {
        "colab": {
          "base_uri": "https://localhost:8080/"
        },
        "id": "USsRF_V_DHHh",
        "outputId": "e9d00494-9188-4c34-b2d2-9a9295fafc18"
      },
      "source": [
        "final_input = input_embs + pos_embs\n",
        "final_input"
      ],
      "execution_count": 17,
      "outputs": [
        {
          "output_type": "execute_result",
          "data": {
            "text/plain": [
              "tensor([[[ 1.9586e+00,  7.4693e-01,  2.0579e-01,  ...,  1.1429e+00,\n",
              "           7.3423e-02,  2.4807e-01],\n",
              "         [ 1.0617e+00,  2.7043e-01,  1.0299e+00,  ...,  4.9614e-01,\n",
              "           1.9396e+00,  8.7922e-01],\n",
              "         [ 6.9829e-02,  2.1029e-01, -3.2022e-01,  ...,  7.9172e-01,\n",
              "           2.0979e+00, -7.2564e-01],\n",
              "         ...,\n",
              "         [ 1.9241e+00, -5.9047e-01,  2.9433e-01,  ...,  2.8012e+00,\n",
              "           7.2918e-01,  7.0781e-01],\n",
              "         [ 1.9241e+00, -5.9047e-01,  2.9433e-01,  ...,  2.8012e+00,\n",
              "           7.2918e-01,  7.0781e-01],\n",
              "         [ 1.9241e+00, -5.9047e-01,  2.9433e-01,  ...,  2.8012e+00,\n",
              "           7.2918e-01,  7.0781e-01]],\n",
              "\n",
              "        [[ 1.8647e+00,  5.6728e-03, -1.7053e-01,  ...,  1.9652e+00,\n",
              "          -8.8622e-01,  2.8205e+00],\n",
              "         [ 1.4961e+00, -1.3201e+00,  1.3008e-01,  ...,  2.1662e+00,\n",
              "           9.4436e-01,  1.9966e+00],\n",
              "         [-6.3606e-01, -1.8103e+00,  1.3700e+00,  ...,  4.3023e-01,\n",
              "          -3.4414e-01,  9.2789e-01],\n",
              "         ...,\n",
              "         [ 8.6933e-02, -1.3415e+00, -3.1659e-02,  ...,  1.1150e+00,\n",
              "          -2.2126e+00, -6.0037e-01],\n",
              "         [-2.1614e+00, -6.1639e-01,  1.6645e+00,  ...,  8.1404e-02,\n",
              "           2.2953e+00,  2.7084e-01],\n",
              "         [ 9.5525e-01,  2.3195e+00, -1.5844e+00,  ...,  1.0725e+00,\n",
              "          -2.3598e-03,  1.4247e+00]]], grad_fn=<AddBackward0>)"
            ]
          },
          "metadata": {
            "tags": []
          },
          "execution_count": 17
        }
      ]
    },
    {
      "cell_type": "markdown",
      "metadata": {
        "id": "YKrBWZilDbiO"
      },
      "source": [
        "## 3. Scaled Dot Product Attention\n",
        "- Q(query), K(key), V(value)\n",
        "1. MatMul $QK^T$\n",
        "2. Scale $\\sqrt{d_k}$\n",
        "3. Mask\n",
        "4. SoftMax $softmax()$\n",
        "5. MatMul $V$"
      ]
    },
    {
      "cell_type": "markdown",
      "metadata": {
        "id": "Dj2CiXYiKHoI"
      },
      "source": [
        "### ex)"
      ]
    },
    {
      "cell_type": "code",
      "metadata": {
        "colab": {
          "base_uri": "https://localhost:8080/"
        },
        "id": "WtJHrD6ADW2f",
        "outputId": "1d58a8fb-4b27-4fae-888a-696c202cb16c"
      },
      "source": [
        "Q, K, V = final_input, final_input, final_input\n",
        "\n",
        "# pad(0) 부분만 True\n",
        "attn_mask = inputs.eq(0).unsqueeze(1).expand(Q.size(0), Q.size(1), K.size(1))\n",
        "attn_mask.size()"
      ],
      "execution_count": 18,
      "outputs": [
        {
          "output_type": "execute_result",
          "data": {
            "text/plain": [
              "torch.Size([2, 12, 12])"
            ]
          },
          "metadata": {
            "tags": []
          },
          "execution_count": 18
        }
      ]
    },
    {
      "cell_type": "code",
      "metadata": {
        "colab": {
          "base_uri": "https://localhost:8080/"
        },
        "id": "KlmWHXKpE8be",
        "outputId": "f275ca9a-cc36-42f3-dbc4-63b454b893b0"
      },
      "source": [
        "attn_mask[0]"
      ],
      "execution_count": 19,
      "outputs": [
        {
          "output_type": "execute_result",
          "data": {
            "text/plain": [
              "tensor([[False, False, False, False, False, False, False, False, False,  True,\n",
              "          True,  True],\n",
              "        [False, False, False, False, False, False, False, False, False,  True,\n",
              "          True,  True],\n",
              "        [False, False, False, False, False, False, False, False, False,  True,\n",
              "          True,  True],\n",
              "        [False, False, False, False, False, False, False, False, False,  True,\n",
              "          True,  True],\n",
              "        [False, False, False, False, False, False, False, False, False,  True,\n",
              "          True,  True],\n",
              "        [False, False, False, False, False, False, False, False, False,  True,\n",
              "          True,  True],\n",
              "        [False, False, False, False, False, False, False, False, False,  True,\n",
              "          True,  True],\n",
              "        [False, False, False, False, False, False, False, False, False,  True,\n",
              "          True,  True],\n",
              "        [False, False, False, False, False, False, False, False, False,  True,\n",
              "          True,  True],\n",
              "        [False, False, False, False, False, False, False, False, False,  True,\n",
              "          True,  True],\n",
              "        [False, False, False, False, False, False, False, False, False,  True,\n",
              "          True,  True],\n",
              "        [False, False, False, False, False, False, False, False, False,  True,\n",
              "          True,  True]])"
            ]
          },
          "metadata": {
            "tags": []
          },
          "execution_count": 19
        }
      ]
    },
    {
      "cell_type": "code",
      "metadata": {
        "colab": {
          "base_uri": "https://localhost:8080/"
        },
        "id": "flFrspoUFDxy",
        "outputId": "bdadcff5-ac54-4633-83e7-ef60ea0396a8"
      },
      "source": [
        "# 1. MatMul\n",
        "scores = torch.matmul(Q, K.transpose(-1, -2))\n",
        "scores.size()"
      ],
      "execution_count": 20,
      "outputs": [
        {
          "output_type": "execute_result",
          "data": {
            "text/plain": [
              "torch.Size([2, 12, 12])"
            ]
          },
          "metadata": {
            "tags": []
          },
          "execution_count": 20
        }
      ]
    },
    {
      "cell_type": "code",
      "metadata": {
        "colab": {
          "base_uri": "https://localhost:8080/"
        },
        "id": "rTsOVJzcFOnC",
        "outputId": "edca4e20-8860-478a-fce1-6bb5e72d4110"
      },
      "source": [
        "scores[0] # 각 단어 상호간 가중치를 표현하는 테이블"
      ],
      "execution_count": 21,
      "outputs": [
        {
          "output_type": "execute_result",
          "data": {
            "text/plain": [
              "tensor([[183.8857,  66.9244,  42.7971,  56.8180,  25.1052,  43.6283,  42.3348,\n",
              "          21.8506,  50.3958,  24.5865,  24.5865,  24.5865],\n",
              "        [ 66.9244, 184.6948,  60.0312,  77.4746,  68.9651,  56.6888,  53.0544,\n",
              "          80.7915,  51.9832,  36.5486,  36.5486,  36.5486],\n",
              "        [ 42.7971,  60.0312, 190.8588,  94.0842,  82.2619,  58.3160,  75.7481,\n",
              "          71.4645,  56.9740,  62.9753,  62.9753,  62.9753],\n",
              "        [ 56.8180,  77.4746,  94.0842, 198.5822,  78.8167,  62.9366,  50.9463,\n",
              "          84.8648,  51.2360,  37.0179,  37.0179,  37.0179],\n",
              "        [ 25.1052,  68.9651,  82.2619,  78.8167, 201.9295,  63.3768,  77.0248,\n",
              "          78.1360,  58.5075,  63.3509,  63.3509,  63.3509],\n",
              "        [ 43.6283,  56.6888,  58.3160,  62.9366,  63.3768, 169.5007,  68.2914,\n",
              "          54.5833,  56.5533,  44.3167,  44.3167,  44.3167],\n",
              "        [ 42.3348,  53.0544,  75.7481,  50.9463,  77.0248,  68.2914, 161.3154,\n",
              "          44.3676,  56.1323,  39.6563,  39.6563,  39.6563],\n",
              "        [ 21.8506,  80.7915,  71.4645,  84.8648,  78.1360,  54.5833,  44.3676,\n",
              "         205.2614,  70.1717,  34.2013,  34.2013,  34.2013],\n",
              "        [ 50.3958,  51.9832,  56.9740,  51.2360,  58.5075,  56.5533,  56.1323,\n",
              "          70.1717, 200.1555,  35.4209,  35.4209,  35.4209],\n",
              "        [ 24.5865,  36.5486,  62.9753,  37.0179,  63.3509,  44.3167,  39.6563,\n",
              "          34.2013,  35.4209, 221.5045, 221.5045, 221.5045],\n",
              "        [ 24.5865,  36.5486,  62.9753,  37.0179,  63.3509,  44.3167,  39.6563,\n",
              "          34.2013,  35.4209, 221.5045, 221.5045, 221.5045],\n",
              "        [ 24.5865,  36.5486,  62.9753,  37.0179,  63.3509,  44.3167,  39.6563,\n",
              "          34.2013,  35.4209, 221.5045, 221.5045, 221.5045]],\n",
              "       grad_fn=<SelectBackward>)"
            ]
          },
          "metadata": {
            "tags": []
          },
          "execution_count": 21
        }
      ]
    },
    {
      "cell_type": "code",
      "metadata": {
        "colab": {
          "base_uri": "https://localhost:8080/"
        },
        "id": "hIqBO3DvFPxp",
        "outputId": "b38365ce-f682-472a-b737-ae02a3a696ca"
      },
      "source": [
        "# 2. Scale\n",
        "d_head = 64\n",
        "scores = scores.mul_(1/d_head**0.5)\n",
        "scores.size()"
      ],
      "execution_count": 22,
      "outputs": [
        {
          "output_type": "execute_result",
          "data": {
            "text/plain": [
              "torch.Size([2, 12, 12])"
            ]
          },
          "metadata": {
            "tags": []
          },
          "execution_count": 22
        }
      ]
    },
    {
      "cell_type": "code",
      "metadata": {
        "colab": {
          "base_uri": "https://localhost:8080/"
        },
        "id": "EX3gcRIxFeHI",
        "outputId": "eaa6dfab-b788-4efa-bba6-5be16653192f"
      },
      "source": [
        "scores[0] # 가중치 편차 감소"
      ],
      "execution_count": 23,
      "outputs": [
        {
          "output_type": "execute_result",
          "data": {
            "text/plain": [
              "tensor([[22.9857,  8.3656,  5.3496,  7.1023,  3.1381,  5.4535,  5.2918,  2.7313,\n",
              "          6.2995,  3.0733,  3.0733,  3.0733],\n",
              "        [ 8.3656, 23.0868,  7.5039,  9.6843,  8.6206,  7.0861,  6.6318, 10.0989,\n",
              "          6.4979,  4.5686,  4.5686,  4.5686],\n",
              "        [ 5.3496,  7.5039, 23.8573, 11.7605, 10.2827,  7.2895,  9.4685,  8.9331,\n",
              "          7.1217,  7.8719,  7.8719,  7.8719],\n",
              "        [ 7.1023,  9.6843, 11.7605, 24.8228,  9.8521,  7.8671,  6.3683, 10.6081,\n",
              "          6.4045,  4.6272,  4.6272,  4.6272],\n",
              "        [ 3.1381,  8.6206, 10.2827,  9.8521, 25.2412,  7.9221,  9.6281,  9.7670,\n",
              "          7.3134,  7.9189,  7.9189,  7.9189],\n",
              "        [ 5.4535,  7.0861,  7.2895,  7.8671,  7.9221, 21.1876,  8.5364,  6.8229,\n",
              "          7.0692,  5.5396,  5.5396,  5.5396],\n",
              "        [ 5.2918,  6.6318,  9.4685,  6.3683,  9.6281,  8.5364, 20.1644,  5.5460,\n",
              "          7.0165,  4.9570,  4.9570,  4.9570],\n",
              "        [ 2.7313, 10.0989,  8.9331, 10.6081,  9.7670,  6.8229,  5.5460, 25.6577,\n",
              "          8.7715,  4.2752,  4.2752,  4.2752],\n",
              "        [ 6.2995,  6.4979,  7.1217,  6.4045,  7.3134,  7.0692,  7.0165,  8.7715,\n",
              "         25.0194,  4.4276,  4.4276,  4.4276],\n",
              "        [ 3.0733,  4.5686,  7.8719,  4.6272,  7.9189,  5.5396,  4.9570,  4.2752,\n",
              "          4.4276, 27.6881, 27.6881, 27.6881],\n",
              "        [ 3.0733,  4.5686,  7.8719,  4.6272,  7.9189,  5.5396,  4.9570,  4.2752,\n",
              "          4.4276, 27.6881, 27.6881, 27.6881],\n",
              "        [ 3.0733,  4.5686,  7.8719,  4.6272,  7.9189,  5.5396,  4.9570,  4.2752,\n",
              "          4.4276, 27.6881, 27.6881, 27.6881]], grad_fn=<SelectBackward>)"
            ]
          },
          "metadata": {
            "tags": []
          },
          "execution_count": 23
        }
      ]
    },
    {
      "cell_type": "code",
      "metadata": {
        "colab": {
          "base_uri": "https://localhost:8080/"
        },
        "id": "i0r2BdY9FfWQ",
        "outputId": "badaeb31-f4ef-4c74-8884-0968ae0dbab5"
      },
      "source": [
        "# 3. Mask\n",
        "scores.masked_fill_(attn_mask, -1e9)\n",
        "scores.size()"
      ],
      "execution_count": 24,
      "outputs": [
        {
          "output_type": "execute_result",
          "data": {
            "text/plain": [
              "torch.Size([2, 12, 12])"
            ]
          },
          "metadata": {
            "tags": []
          },
          "execution_count": 24
        }
      ]
    },
    {
      "cell_type": "code",
      "metadata": {
        "colab": {
          "base_uri": "https://localhost:8080/"
        },
        "id": "FRz8kk3OFq5j",
        "outputId": "59cb6b2e-0ec4-4b57-a27b-f5532cd2cc26"
      },
      "source": [
        "scores[0] # 아주 작은 값으로 mask됨"
      ],
      "execution_count": 25,
      "outputs": [
        {
          "output_type": "execute_result",
          "data": {
            "text/plain": [
              "tensor([[ 2.2986e+01,  8.3656e+00,  5.3496e+00,  7.1023e+00,  3.1381e+00,\n",
              "          5.4535e+00,  5.2918e+00,  2.7313e+00,  6.2995e+00, -1.0000e+09,\n",
              "         -1.0000e+09, -1.0000e+09],\n",
              "        [ 8.3656e+00,  2.3087e+01,  7.5039e+00,  9.6843e+00,  8.6206e+00,\n",
              "          7.0861e+00,  6.6318e+00,  1.0099e+01,  6.4979e+00, -1.0000e+09,\n",
              "         -1.0000e+09, -1.0000e+09],\n",
              "        [ 5.3496e+00,  7.5039e+00,  2.3857e+01,  1.1761e+01,  1.0283e+01,\n",
              "          7.2895e+00,  9.4685e+00,  8.9331e+00,  7.1217e+00, -1.0000e+09,\n",
              "         -1.0000e+09, -1.0000e+09],\n",
              "        [ 7.1023e+00,  9.6843e+00,  1.1761e+01,  2.4823e+01,  9.8521e+00,\n",
              "          7.8671e+00,  6.3683e+00,  1.0608e+01,  6.4045e+00, -1.0000e+09,\n",
              "         -1.0000e+09, -1.0000e+09],\n",
              "        [ 3.1381e+00,  8.6206e+00,  1.0283e+01,  9.8521e+00,  2.5241e+01,\n",
              "          7.9221e+00,  9.6281e+00,  9.7670e+00,  7.3134e+00, -1.0000e+09,\n",
              "         -1.0000e+09, -1.0000e+09],\n",
              "        [ 5.4535e+00,  7.0861e+00,  7.2895e+00,  7.8671e+00,  7.9221e+00,\n",
              "          2.1188e+01,  8.5364e+00,  6.8229e+00,  7.0692e+00, -1.0000e+09,\n",
              "         -1.0000e+09, -1.0000e+09],\n",
              "        [ 5.2918e+00,  6.6318e+00,  9.4685e+00,  6.3683e+00,  9.6281e+00,\n",
              "          8.5364e+00,  2.0164e+01,  5.5460e+00,  7.0165e+00, -1.0000e+09,\n",
              "         -1.0000e+09, -1.0000e+09],\n",
              "        [ 2.7313e+00,  1.0099e+01,  8.9331e+00,  1.0608e+01,  9.7670e+00,\n",
              "          6.8229e+00,  5.5460e+00,  2.5658e+01,  8.7715e+00, -1.0000e+09,\n",
              "         -1.0000e+09, -1.0000e+09],\n",
              "        [ 6.2995e+00,  6.4979e+00,  7.1217e+00,  6.4045e+00,  7.3134e+00,\n",
              "          7.0692e+00,  7.0165e+00,  8.7715e+00,  2.5019e+01, -1.0000e+09,\n",
              "         -1.0000e+09, -1.0000e+09],\n",
              "        [ 3.0733e+00,  4.5686e+00,  7.8719e+00,  4.6272e+00,  7.9189e+00,\n",
              "          5.5396e+00,  4.9570e+00,  4.2752e+00,  4.4276e+00, -1.0000e+09,\n",
              "         -1.0000e+09, -1.0000e+09],\n",
              "        [ 3.0733e+00,  4.5686e+00,  7.8719e+00,  4.6272e+00,  7.9189e+00,\n",
              "          5.5396e+00,  4.9570e+00,  4.2752e+00,  4.4276e+00, -1.0000e+09,\n",
              "         -1.0000e+09, -1.0000e+09],\n",
              "        [ 3.0733e+00,  4.5686e+00,  7.8719e+00,  4.6272e+00,  7.9189e+00,\n",
              "          5.5396e+00,  4.9570e+00,  4.2752e+00,  4.4276e+00, -1.0000e+09,\n",
              "         -1.0000e+09, -1.0000e+09]], grad_fn=<SelectBackward>)"
            ]
          },
          "metadata": {
            "tags": []
          },
          "execution_count": 25
        }
      ]
    },
    {
      "cell_type": "code",
      "metadata": {
        "colab": {
          "base_uri": "https://localhost:8080/"
        },
        "id": "8H6z98TAFuZX",
        "outputId": "24c1a142-6897-48b8-a180-38f8f0d84a60"
      },
      "source": [
        "# 4. Softmax\n",
        "attn_prob = nn.Softmax(dim = -1)(scores)\n",
        "attn_prob.size()"
      ],
      "execution_count": 26,
      "outputs": [
        {
          "output_type": "execute_result",
          "data": {
            "text/plain": [
              "torch.Size([2, 12, 12])"
            ]
          },
          "metadata": {
            "tags": []
          },
          "execution_count": 26
        }
      ]
    },
    {
      "cell_type": "code",
      "metadata": {
        "colab": {
          "base_uri": "https://localhost:8080/"
        },
        "id": "yRhzmDZ1F3i2",
        "outputId": "0645671d-bb06-4ba0-c035-f16ffb792d0a"
      },
      "source": [
        "attn_prob[0] # 가중치 확률로 변환, mask는 모두 0"
      ],
      "execution_count": 27,
      "outputs": [
        {
          "output_type": "execute_result",
          "data": {
            "text/plain": [
              "tensor([[1.0000e+00, 4.4725e-07, 2.1916e-08, 1.2645e-07, 2.4006e-09, 2.4315e-08,\n",
              "         2.0685e-08, 1.5982e-09, 5.6658e-08, 0.0000e+00, 0.0000e+00, 0.0000e+00],\n",
              "        [4.0422e-07, 9.9999e-01, 1.7077e-07, 1.5113e-06, 5.2168e-07, 1.1245e-07,\n",
              "         7.1394e-08, 2.2878e-06, 6.2447e-08, 0.0000e+00, 0.0000e+00, 0.0000e+00],\n",
              "        [9.1664e-09, 7.9029e-08, 9.9999e-01, 5.5772e-06, 1.2724e-06, 6.3778e-08,\n",
              "         5.6364e-07, 3.2996e-07, 5.3929e-08, 0.0000e+00, 0.0000e+00, 0.0000e+00],\n",
              "        [2.0141e-08, 2.6635e-07, 2.1239e-06, 1.0000e+00, 3.1500e-07, 4.3274e-08,\n",
              "         9.6675e-09, 6.7087e-07, 1.0024e-08, 0.0000e+00, 0.0000e+00, 0.0000e+00],\n",
              "        [2.5163e-10, 6.0504e-08, 3.1888e-07, 2.0730e-07, 1.0000e+00, 3.0089e-08,\n",
              "         1.6570e-07, 1.9039e-07, 1.6371e-08, 0.0000e+00, 0.0000e+00, 0.0000e+00],\n",
              "        [1.4682e-07, 7.5126e-07, 9.2072e-07, 1.6405e-06, 1.7333e-06, 9.9999e-01,\n",
              "         3.2038e-06, 5.7742e-07, 7.3865e-07, 0.0000e+00, 0.0000e+00, 0.0000e+00],\n",
              "        [3.4745e-07, 1.3269e-06, 2.2636e-05, 1.0195e-06, 2.6552e-05, 8.9124e-06,\n",
              "         9.9994e-01, 4.4797e-07, 1.9495e-06, 0.0000e+00, 0.0000e+00, 0.0000e+00],\n",
              "        [1.1046e-10, 1.7496e-07, 5.4524e-08, 2.9111e-07, 1.2554e-07, 6.6094e-09,\n",
              "         1.8433e-09, 1.0000e+00, 4.6389e-08, 0.0000e+00, 0.0000e+00, 0.0000e+00],\n",
              "        [7.4135e-09, 9.0407e-09, 1.6871e-08, 8.2346e-09, 2.0435e-08, 1.6006e-08,\n",
              "         1.5186e-08, 8.7821e-08, 1.0000e+00, 0.0000e+00, 0.0000e+00, 0.0000e+00],\n",
              "        [3.5179e-03, 1.5692e-02, 4.2686e-01, 1.6640e-02, 4.4738e-01, 4.1436e-02,\n",
              "         2.3141e-02, 1.1701e-02, 1.3629e-02, 0.0000e+00, 0.0000e+00, 0.0000e+00],\n",
              "        [3.5179e-03, 1.5692e-02, 4.2686e-01, 1.6640e-02, 4.4738e-01, 4.1436e-02,\n",
              "         2.3141e-02, 1.1701e-02, 1.3629e-02, 0.0000e+00, 0.0000e+00, 0.0000e+00],\n",
              "        [3.5179e-03, 1.5692e-02, 4.2686e-01, 1.6640e-02, 4.4738e-01, 4.1436e-02,\n",
              "         2.3141e-02, 1.1701e-02, 1.3629e-02, 0.0000e+00, 0.0000e+00, 0.0000e+00]],\n",
              "       grad_fn=<SelectBackward>)"
            ]
          },
          "metadata": {
            "tags": []
          },
          "execution_count": 27
        }
      ]
    },
    {
      "cell_type": "code",
      "metadata": {
        "colab": {
          "base_uri": "https://localhost:8080/"
        },
        "id": "7y0l0_nnF89o",
        "outputId": "9f144635-7b76-43ec-8d25-131403b519bc"
      },
      "source": [
        "# 5. Matmul\n",
        "context = torch.matmul(attn_prob, V)\n",
        "context.size()"
      ],
      "execution_count": 28,
      "outputs": [
        {
          "output_type": "execute_result",
          "data": {
            "text/plain": [
              "torch.Size([2, 12, 128])"
            ]
          },
          "metadata": {
            "tags": []
          },
          "execution_count": 28
        }
      ]
    },
    {
      "cell_type": "code",
      "metadata": {
        "colab": {
          "base_uri": "https://localhost:8080/"
        },
        "id": "QzxJ05obGKpu",
        "outputId": "1c041d85-3ed1-40e8-9c12-c85ee2cf9be4"
      },
      "source": [
        "Q.size()"
      ],
      "execution_count": 29,
      "outputs": [
        {
          "output_type": "execute_result",
          "data": {
            "text/plain": [
              "torch.Size([2, 12, 128])"
            ]
          },
          "metadata": {
            "tags": []
          },
          "execution_count": 29
        }
      ]
    },
    {
      "cell_type": "markdown",
      "metadata": {
        "id": "hxmPuvNVGYMs"
      },
      "source": [
        "### Class화"
      ]
    },
    {
      "cell_type": "code",
      "metadata": {
        "id": "30cyFHSaGQFW"
      },
      "source": [
        "\"\"\" scale dot product attention \"\"\"\n",
        "class ScaledDotProductAttention(nn.Module):\n",
        "    def __init__(self, d_head):\n",
        "        super().__init__()\n",
        "        self.scale = 1 / (d_head ** 0.5)\n",
        "    \n",
        "    def forward(self, Q, K, V, attn_mask):\n",
        "        # (bs, n_head, n_q_seq, n_k_seq)\n",
        "        scores = torch.matmul(Q, K.transpose(-1, -2)).mul_(self.scale)\n",
        "        scores.masked_fill_(attn_mask, -1e9)\n",
        "        # (bs, n_head, n_q_seq, n_k_seq)\n",
        "        attn_prob = nn.Softmax(dim=-1)(scores)\n",
        "        # (bs, n_head, n_q_seq, d_v)\n",
        "        context = torch.matmul(attn_prob, V)\n",
        "        # (bs, n_head, n_q_seq, d_v), (bs, n_head, n_q_seq, n_v_seq)\n",
        "        return context, attn_prob"
      ],
      "execution_count": 30,
      "outputs": []
    },
    {
      "cell_type": "markdown",
      "metadata": {
        "id": "58kG7y_IGmp9"
      },
      "source": [
        "## 4. Multi-Head Attention\n",
        "- ScaledDotProductAttention과 Q, K, V 같음\n",
        "- head 2개\n",
        "- head dimension 64"
      ]
    },
    {
      "cell_type": "markdown",
      "metadata": {
        "id": "_dJDmA-2KC_K"
      },
      "source": [
        "### ex)"
      ]
    },
    {
      "cell_type": "code",
      "metadata": {
        "id": "kRmsJzrnGmGX"
      },
      "source": [
        "Q, K, V = final_input, final_input, final_input\n",
        "\n",
        "# pad(0) 부분만 True\n",
        "attn_mask = inputs.eq(0).unsqueeze(1).expand(Q.size(0), Q.size(1), K.size(1))\n",
        "\n",
        "batch_size = Q.size(0)\n",
        "n_head = 2"
      ],
      "execution_count": 31,
      "outputs": []
    },
    {
      "cell_type": "markdown",
      "metadata": {
        "id": "MiESdmX2HNnS"
      },
      "source": [
        "1. Q를 여러 개의 head로 나누기 $QW_i^Q, KW_i^K, VW_i^V$\n",
        "2. Attention $Attention() = head_i$\n",
        "3. Concat $Concat(head_1, head_2, ... , head_h)$\n",
        "4. Linear $W^O$"
      ]
    },
    {
      "cell_type": "code",
      "metadata": {
        "colab": {
          "base_uri": "https://localhost:8080/"
        },
        "id": "MdOC4C1nHEf6",
        "outputId": "087446dc-1562-4919-a8a2-a8e483b56cff"
      },
      "source": [
        "# 1. Q를 여러개의 head로\n",
        "W_Q = nn.Linear(d_hidn, n_head * d_head)\n",
        "W_K = nn.Linear(d_hidn, n_head * d_head)\n",
        "W_V = nn.Linear(d_hidn, n_head * d_head)\n",
        "\n",
        "# (bs, n_head, n_seq, d_head)\n",
        "q_s = W_Q(Q).view(batch_size, -1, n_head, d_head).transpose(1,2)\n",
        "# (bs, n_head, n_seq, d_head)\n",
        "k_s = W_K(K).view(batch_size, -1, n_head, d_head).transpose(1,2)\n",
        "# (bs, n_head, n_seq, d_head)\n",
        "v_s = W_V(V).view(batch_size, -1, n_head, d_head).transpose(1,2)\n",
        "print(q_s.size(), k_s.size(), v_s.size())"
      ],
      "execution_count": 32,
      "outputs": [
        {
          "output_type": "stream",
          "text": [
            "torch.Size([2, 2, 12, 64]) torch.Size([2, 2, 12, 64]) torch.Size([2, 2, 12, 64])\n"
          ],
          "name": "stdout"
        }
      ]
    },
    {
      "cell_type": "code",
      "metadata": {
        "colab": {
          "base_uri": "https://localhost:8080/"
        },
        "id": "rAT9kQ9GHltm",
        "outputId": "d1545672-a996-48b3-ce38-ba8d31585ed4"
      },
      "source": [
        "print(attn_mask.size())\n",
        "attn_mask = attn_mask.unsqueeze(1).repeat(1, n_head, 1, 1)\n",
        "print(attn_mask.size())"
      ],
      "execution_count": 33,
      "outputs": [
        {
          "output_type": "stream",
          "text": [
            "torch.Size([2, 12, 12])\n",
            "torch.Size([2, 2, 12, 12])\n"
          ],
          "name": "stdout"
        }
      ]
    },
    {
      "cell_type": "code",
      "metadata": {
        "id": "dlSw19jtH4x4"
      },
      "source": [
        "# 2. Attention\n",
        "scaled_dot_attn = ScaledDotProductAttention(d_head)\n",
        "context, attn_prob = scaled_dot_attn(q_s, k_s, v_s, attn_mask)"
      ],
      "execution_count": 34,
      "outputs": []
    },
    {
      "cell_type": "code",
      "metadata": {
        "colab": {
          "base_uri": "https://localhost:8080/"
        },
        "id": "bKLhWJ4wI4jZ",
        "outputId": "6212a700-343e-4130-ee6f-5f15096562fc"
      },
      "source": [
        "context.size(), attn_prob.size()"
      ],
      "execution_count": 35,
      "outputs": [
        {
          "output_type": "execute_result",
          "data": {
            "text/plain": [
              "(torch.Size([2, 2, 12, 64]), torch.Size([2, 2, 12, 12]))"
            ]
          },
          "metadata": {
            "tags": []
          },
          "execution_count": 35
        }
      ]
    },
    {
      "cell_type": "code",
      "metadata": {
        "colab": {
          "base_uri": "https://localhost:8080/"
        },
        "id": "uy8ZxnJ1JIvy",
        "outputId": "d3b1aab8-491e-4e2c-d9d1-12296bc894ff"
      },
      "source": [
        "# 3. Concat\n",
        "context = context.transpose(1, 2).contiguous()\\\n",
        "                 .view(batch_size, -1, n_head * d_head)\n",
        "context.size() # Multi-Head 합체"
      ],
      "execution_count": 36,
      "outputs": [
        {
          "output_type": "execute_result",
          "data": {
            "text/plain": [
              "torch.Size([2, 12, 128])"
            ]
          },
          "metadata": {
            "tags": []
          },
          "execution_count": 36
        }
      ]
    },
    {
      "cell_type": "code",
      "metadata": {
        "colab": {
          "base_uri": "https://localhost:8080/"
        },
        "id": "hR84sbZnJVLV",
        "outputId": "31fd085c-a373-4edb-d7c1-5d1475c1a9d6"
      },
      "source": [
        "# 4. Linear\n",
        "linear = nn.Linear(n_head * d_head, d_hidn)\n",
        "\n",
        "output = linear(context)\n",
        "output.size()"
      ],
      "execution_count": 37,
      "outputs": [
        {
          "output_type": "execute_result",
          "data": {
            "text/plain": [
              "torch.Size([2, 12, 128])"
            ]
          },
          "metadata": {
            "tags": []
          },
          "execution_count": 37
        }
      ]
    },
    {
      "cell_type": "code",
      "metadata": {
        "colab": {
          "base_uri": "https://localhost:8080/"
        },
        "id": "15E-xl68JjKq",
        "outputId": "6c4eb063-a0cc-4701-e610-beca32a6e176"
      },
      "source": [
        "Q.size() # 같은 shape의 Multi-Head Attention"
      ],
      "execution_count": 38,
      "outputs": [
        {
          "output_type": "execute_result",
          "data": {
            "text/plain": [
              "torch.Size([2, 12, 128])"
            ]
          },
          "metadata": {
            "tags": []
          },
          "execution_count": 38
        }
      ]
    },
    {
      "cell_type": "markdown",
      "metadata": {
        "id": "vlt7BugMJqo6"
      },
      "source": [
        "### Class화"
      ]
    },
    {
      "cell_type": "code",
      "metadata": {
        "id": "8nPnQ8KXJmcc"
      },
      "source": [
        "\"\"\" multi head attention \"\"\"\n",
        "class MultiHeadAttention(nn.Module):\n",
        "    def __init__(self, d_hidn, n_head, d_head):\n",
        "        super().__init__()\n",
        "        self.d_hidn = d_hidn\n",
        "        self.n_head = n_head\n",
        "        self.d_head = d_head\n",
        "\n",
        "        self.W_Q = nn.Linear(d_hidn, n_head * d_head)\n",
        "        self.W_K = nn.Linear(d_hidn, n_head * d_head)\n",
        "        self.W_V = nn.Linear(d_hidn, n_head * d_head)\n",
        "        self.scaled_dot_attn = ScaledDotProductAttention(d_head)\n",
        "        self.linear = nn.Linear(n_head * d_head, d_hidn)\n",
        "    \n",
        "    def forward(self, Q, K, V, attn_mask):\n",
        "        batch_size = Q.size(0)\n",
        "        # (bs, n_head, n_q_seq, d_head)\n",
        "        q_s = self.W_Q(Q).view(batch_size, -1, self.n_head, self.d_head).transpose(1,2)\n",
        "        # (bs, n_head, n_k_seq, d_head)\n",
        "        k_s = self.W_K(K).view(batch_size, -1, self.n_head, self.d_head).transpose(1,2)\n",
        "        # (bs, n_head, n_v_seq, d_head)\n",
        "        v_s = self.W_V(V).view(batch_size, -1, self.n_head, self.d_head).transpose(1,2)\n",
        "\n",
        "        # (bs, n_head, n_q_seq, n_k_seq)\n",
        "        attn_mask = attn_mask.unsqueeze(1).repeat(1, self.n_head, 1, 1)\n",
        "\n",
        "        # (bs, n_head, n_q_seq, d_head), (bs, n_head, n_q_seq, n_k_seq)\n",
        "        context, attn_prob = self.scaled_dot_attn(q_s, k_s, v_s, attn_mask)\n",
        "        # (bs, n_head, n_q_seq, h_head * d_head)\n",
        "        context = context.transpose(1, 2).contiguous().view(batch_size, -1, self.n_head * self.d_head)\n",
        "        # (bs, n_head, n_q_seq, e_embd)\n",
        "        output = self.linear(context)\n",
        "        # (bs, n_q_seq, d_hidn), (bs, n_head, n_q_seq, n_k_seq)\n",
        "        return output, attn_prob"
      ],
      "execution_count": 39,
      "outputs": []
    },
    {
      "cell_type": "markdown",
      "metadata": {
        "id": "IA_8JRnGKYpu"
      },
      "source": [
        "## 5. Masked Multi-Head Attention\n",
        "- attention mask를 제외하고 Multi-Head와 같음"
      ]
    },
    {
      "cell_type": "markdown",
      "metadata": {
        "id": "9O2k3-nSUn20"
      },
      "source": [
        "### ex)"
      ]
    },
    {
      "cell_type": "code",
      "metadata": {
        "id": "svgx7E6LM-Yc"
      },
      "source": [
        "\"\"\" attention decoder mask \"\"\"\n",
        "def get_attn_decoder_mask(seq):\n",
        "    subsequent_mask = torch.ones_like(seq).unsqueeze(-1).expand(seq.size(0), seq.size(1), seq.size(1))\n",
        "    subsequent_mask = subsequent_mask.triu(diagonal=1) # upper triangular part of a matrix(2-D)\n",
        "    return subsequent_mask\n",
        "\n",
        "attn_pad_mask = inputs.eq(0).unsqueeze(1).expand(Q.size(0), Q.size(1), K.size(1))\n",
        "attn_dec_mask = get_attn_decoder_mask(inputs)\n",
        "attn_mask = torch.gt((attn_pad_mask + attn_dec_mask), 0) # 합체\n",
        "\n",
        "batch_size = Q.size(0)\n",
        "n_head = 2"
      ],
      "execution_count": 40,
      "outputs": []
    },
    {
      "cell_type": "code",
      "metadata": {
        "colab": {
          "base_uri": "https://localhost:8080/"
        },
        "id": "JS8ubrkdJ9a1",
        "outputId": "1c129a08-6920-4df7-b833-5dbce2a17947"
      },
      "source": [
        "attn_pad_mask[1]"
      ],
      "execution_count": 41,
      "outputs": [
        {
          "output_type": "execute_result",
          "data": {
            "text/plain": [
              "tensor([[False, False, False, False, False, False, False, False, False, False,\n",
              "         False, False],\n",
              "        [False, False, False, False, False, False, False, False, False, False,\n",
              "         False, False],\n",
              "        [False, False, False, False, False, False, False, False, False, False,\n",
              "         False, False],\n",
              "        [False, False, False, False, False, False, False, False, False, False,\n",
              "         False, False],\n",
              "        [False, False, False, False, False, False, False, False, False, False,\n",
              "         False, False],\n",
              "        [False, False, False, False, False, False, False, False, False, False,\n",
              "         False, False],\n",
              "        [False, False, False, False, False, False, False, False, False, False,\n",
              "         False, False],\n",
              "        [False, False, False, False, False, False, False, False, False, False,\n",
              "         False, False],\n",
              "        [False, False, False, False, False, False, False, False, False, False,\n",
              "         False, False],\n",
              "        [False, False, False, False, False, False, False, False, False, False,\n",
              "         False, False],\n",
              "        [False, False, False, False, False, False, False, False, False, False,\n",
              "         False, False],\n",
              "        [False, False, False, False, False, False, False, False, False, False,\n",
              "         False, False]])"
            ]
          },
          "metadata": {
            "tags": []
          },
          "execution_count": 41
        }
      ]
    },
    {
      "cell_type": "code",
      "metadata": {
        "colab": {
          "base_uri": "https://localhost:8080/"
        },
        "id": "4iqeQMM9JznX",
        "outputId": "3aed4ba2-e933-46a9-fe6a-698a43d6e510"
      },
      "source": [
        "attn_dec_mask[1]"
      ],
      "execution_count": 42,
      "outputs": [
        {
          "output_type": "execute_result",
          "data": {
            "text/plain": [
              "tensor([[0, 1, 1, 1, 1, 1, 1, 1, 1, 1, 1, 1],\n",
              "        [0, 0, 1, 1, 1, 1, 1, 1, 1, 1, 1, 1],\n",
              "        [0, 0, 0, 1, 1, 1, 1, 1, 1, 1, 1, 1],\n",
              "        [0, 0, 0, 0, 1, 1, 1, 1, 1, 1, 1, 1],\n",
              "        [0, 0, 0, 0, 0, 1, 1, 1, 1, 1, 1, 1],\n",
              "        [0, 0, 0, 0, 0, 0, 1, 1, 1, 1, 1, 1],\n",
              "        [0, 0, 0, 0, 0, 0, 0, 1, 1, 1, 1, 1],\n",
              "        [0, 0, 0, 0, 0, 0, 0, 0, 1, 1, 1, 1],\n",
              "        [0, 0, 0, 0, 0, 0, 0, 0, 0, 1, 1, 1],\n",
              "        [0, 0, 0, 0, 0, 0, 0, 0, 0, 0, 1, 1],\n",
              "        [0, 0, 0, 0, 0, 0, 0, 0, 0, 0, 0, 1],\n",
              "        [0, 0, 0, 0, 0, 0, 0, 0, 0, 0, 0, 0]])"
            ]
          },
          "metadata": {
            "tags": []
          },
          "execution_count": 42
        }
      ]
    },
    {
      "cell_type": "code",
      "metadata": {
        "colab": {
          "base_uri": "https://localhost:8080/"
        },
        "id": "bDvmnErQOKMC",
        "outputId": "e581a8a3-1583-42e3-d3a6-2ea1e59e79bf"
      },
      "source": [
        "attn_mask[1]"
      ],
      "execution_count": 43,
      "outputs": [
        {
          "output_type": "execute_result",
          "data": {
            "text/plain": [
              "tensor([[False,  True,  True,  True,  True,  True,  True,  True,  True,  True,\n",
              "          True,  True],\n",
              "        [False, False,  True,  True,  True,  True,  True,  True,  True,  True,\n",
              "          True,  True],\n",
              "        [False, False, False,  True,  True,  True,  True,  True,  True,  True,\n",
              "          True,  True],\n",
              "        [False, False, False, False,  True,  True,  True,  True,  True,  True,\n",
              "          True,  True],\n",
              "        [False, False, False, False, False,  True,  True,  True,  True,  True,\n",
              "          True,  True],\n",
              "        [False, False, False, False, False, False,  True,  True,  True,  True,\n",
              "          True,  True],\n",
              "        [False, False, False, False, False, False, False,  True,  True,  True,\n",
              "          True,  True],\n",
              "        [False, False, False, False, False, False, False, False,  True,  True,\n",
              "          True,  True],\n",
              "        [False, False, False, False, False, False, False, False, False,  True,\n",
              "          True,  True],\n",
              "        [False, False, False, False, False, False, False, False, False, False,\n",
              "          True,  True],\n",
              "        [False, False, False, False, False, False, False, False, False, False,\n",
              "         False,  True],\n",
              "        [False, False, False, False, False, False, False, False, False, False,\n",
              "         False, False]])"
            ]
          },
          "metadata": {
            "tags": []
          },
          "execution_count": 43
        }
      ]
    },
    {
      "cell_type": "code",
      "metadata": {
        "id": "9gbqLlr9OMEQ"
      },
      "source": [
        "attention = MultiHeadAttention(d_hidn, n_head, d_head)\n",
        "output, attn_prob = attention(Q, K, V, attn_mask)"
      ],
      "execution_count": 44,
      "outputs": []
    },
    {
      "cell_type": "code",
      "metadata": {
        "colab": {
          "base_uri": "https://localhost:8080/"
        },
        "id": "YFFulcYMOa1i",
        "outputId": "36f49bf8-3402-48d4-9cb6-d2db8259963c"
      },
      "source": [
        "output.size(), attn_prob.size()"
      ],
      "execution_count": 45,
      "outputs": [
        {
          "output_type": "execute_result",
          "data": {
            "text/plain": [
              "(torch.Size([2, 12, 128]), torch.Size([2, 2, 12, 12]))"
            ]
          },
          "metadata": {
            "tags": []
          },
          "execution_count": 45
        }
      ]
    },
    {
      "cell_type": "markdown",
      "metadata": {
        "id": "SDFkgQgnPzfY"
      },
      "source": [
        "## 6. FeedForward\n",
        "\n",
        "$FFN(x) = max(0, xW_1, b_1)W_2 + b_2$\n",
        "\n",
        "1. f1 $xW_1 + b_1$\n",
        "2. Activation $max(0, f_1)$\n",
        "3. f3 $max(0, xW_1, b_1)W_2 + b_2$\n"
      ]
    },
    {
      "cell_type": "markdown",
      "metadata": {
        "id": "f_szYT1ATYej"
      },
      "source": [
        "### ex)"
      ]
    },
    {
      "cell_type": "code",
      "metadata": {
        "colab": {
          "base_uri": "https://localhost:8080/"
        },
        "id": "RhZaW9BvPxvW",
        "outputId": "ff935207-e944-4af6-9b92-18ca3ead306f"
      },
      "source": [
        "# 1. f1\n",
        "conv1 = nn.Conv1d(in_channels = d_hidn, out_channels = d_hidn * 4, kernel_size = 1)\n",
        "\n",
        "ff_1 = conv1(output.transpose(1, 2))\n",
        "ff_1.size() # 4배의 hidden dimension"
      ],
      "execution_count": 46,
      "outputs": [
        {
          "output_type": "execute_result",
          "data": {
            "text/plain": [
              "torch.Size([2, 512, 12])"
            ]
          },
          "metadata": {
            "tags": []
          },
          "execution_count": 46
        }
      ]
    },
    {
      "cell_type": "code",
      "metadata": {
        "id": "4QL4ubFmOdWF"
      },
      "source": [
        "# 2. Activation (relu, gelu)\n",
        "active = nn.functional.gelu\n",
        "ff_2 = active(ff_1)"
      ],
      "execution_count": 47,
      "outputs": []
    },
    {
      "cell_type": "code",
      "metadata": {
        "colab": {
          "base_uri": "https://localhost:8080/"
        },
        "id": "I93AtvqbSzHs",
        "outputId": "9836085d-9f40-4f8e-e586-5990fe6fb4f1"
      },
      "source": [
        "# 3. f3\n",
        "conv2 = nn.Conv1d(in_channels = d_hidn * 4, out_channels = d_hidn, kernel_size = 1)\n",
        "ff_3 = conv2(ff_2).transpose(1, 2)\n",
        "ff_3.size()"
      ],
      "execution_count": 48,
      "outputs": [
        {
          "output_type": "execute_result",
          "data": {
            "text/plain": [
              "torch.Size([2, 12, 128])"
            ]
          },
          "metadata": {
            "tags": []
          },
          "execution_count": 48
        }
      ]
    },
    {
      "cell_type": "markdown",
      "metadata": {
        "id": "SaFdvRHPTcIa"
      },
      "source": [
        "### Class화"
      ]
    },
    {
      "cell_type": "code",
      "metadata": {
        "id": "O7sTNKv_Tbxg"
      },
      "source": [
        "\"\"\" feed forward \"\"\"\n",
        "class PoswiseFeedForwardNet(nn.Module):\n",
        "    def __init__(self, d_hidn):\n",
        "        super().__init__()\n",
        "\n",
        "        self.conv1 = nn.Conv1d(in_channels=self.config.d_hidn, out_channels=self.config.d_hidn * 4, kernel_size=1)\n",
        "        self.conv2 = nn.Conv1d(in_channels=self.config.d_hidn * 4, out_channels=self.config.d_hidn, kernel_size=1)\n",
        "        self.active = F.gelu\n",
        "\n",
        "    def forward(self, inputs):\n",
        "        # (bs, d_ff, n_seq)\n",
        "        output = self.active(self.conv1(inputs.transpose(1, 2)))\n",
        "        # (bs, n_seq, d_hidn)\n",
        "        output = self.conv2(output).transpose(1, 2)\n",
        "        # (bs, n_seq, d_hidn)\n",
        "        return output"
      ],
      "execution_count": 49,
      "outputs": []
    },
    {
      "cell_type": "markdown",
      "metadata": {
        "id": "nqkBuH3zT-sx"
      },
      "source": [
        "# Transformer Class화"
      ]
    },
    {
      "cell_type": "markdown",
      "metadata": {
        "id": "o59Y8o5VXvPI"
      },
      "source": [
        "### Config"
      ]
    },
    {
      "cell_type": "code",
      "metadata": {
        "id": "gOsJwOA-TUF2"
      },
      "source": [
        "\"\"\" configuration json을 읽어들이는 class \"\"\"\n",
        "class Config(dict): \n",
        "    __getattr__ = dict.__getitem__\n",
        "    __setattr__ = dict.__setitem__\n",
        "\n",
        "    @classmethod\n",
        "    def load(cls, file):\n",
        "        with open(file, 'r') as f:\n",
        "            config = json.loads(f.read())\n",
        "            return Config(config)"
      ],
      "execution_count": 50,
      "outputs": []
    },
    {
      "cell_type": "code",
      "metadata": {
        "colab": {
          "base_uri": "https://localhost:8080/"
        },
        "id": "-dxoG-tIU9Yl",
        "outputId": "f37f370e-b3b9-4438-8f90-3996180934c7"
      },
      "source": [
        "config = Config({\n",
        "    \"n_enc_vocab\": len(vocab),\n",
        "    \"n_dec_vocab\": len(vocab),\n",
        "    \"n_enc_seq\": 256,\n",
        "    \"n_dec_seq\": 256,\n",
        "    \"n_layer\": 6,\n",
        "    \"d_hidn\": 256,\n",
        "    \"i_pad\": 0,\n",
        "    \"d_ff\": 1024,\n",
        "    \"n_head\": 4,\n",
        "    \"d_head\": 64,\n",
        "    \"dropout\": 0.1,\n",
        "    \"layer_norm_epsilon\": 1e-12\n",
        "})\n",
        "print(config)"
      ],
      "execution_count": 51,
      "outputs": [
        {
          "output_type": "stream",
          "text": [
            "{'n_enc_vocab': 8007, 'n_dec_vocab': 8007, 'n_enc_seq': 256, 'n_dec_seq': 256, 'n_layer': 6, 'd_hidn': 256, 'i_pad': 0, 'd_ff': 1024, 'n_head': 4, 'd_head': 64, 'dropout': 0.1, 'layer_norm_epsilon': 1e-12}\n"
          ],
          "name": "stdout"
        }
      ]
    },
    {
      "cell_type": "markdown",
      "metadata": {
        "id": "YM4uAkqZWDx0"
      },
      "source": [
        "### Attention Pad Mask\n",
        "1. K의 값 중 pad 부분을 True로 \n",
        "2. 구해진 값의 크기를 Q-len, K-len 되도록 변경"
      ]
    },
    {
      "cell_type": "code",
      "metadata": {
        "id": "wS6uOgg0U_qX"
      },
      "source": [
        "\"\"\" attention pad mask \"\"\"\n",
        "def get_attn_pad_mask(seq_q, seq_k, i_pad):\n",
        "    batch_size, len_q = seq_q.size()\n",
        "    batch_size, len_k = seq_k.size()\n",
        "    pad_attn_mask = seq_k.data.eq(i_pad)\n",
        "    pad_attn_mask= pad_attn_mask.unsqueeze(1).expand(batch_size, len_q, len_k)\n",
        "    return pad_attn_mask"
      ],
      "execution_count": 52,
      "outputs": []
    },
    {
      "cell_type": "markdown",
      "metadata": {
        "id": "aHWzKSdyXKHS"
      },
      "source": [
        "### Attention Decoder Mask\n",
        "1. 모든 값이 1인 Q-len, K-len 테이블 생성\n",
        "2. 대각선을 기준으로 아래쪽을 0으로"
      ]
    },
    {
      "cell_type": "code",
      "metadata": {
        "id": "a0wU8htpXJUe"
      },
      "source": [
        "\"\"\" attention decoder mask \"\"\"\n",
        "def get_attn_decoder_mask(seq):\n",
        "    subsequent_mask = torch.ones_like(seq).unsqueeze(-1).expand(seq.size(0), seq.size(1), seq.size(1))\n",
        "    subsequent_mask = subsequent_mask.triu(diagonal=1) # upper triangular part of a matrix(2-D)\n",
        "    return subsequent_mask"
      ],
      "execution_count": 53,
      "outputs": []
    },
    {
      "cell_type": "markdown",
      "metadata": {
        "id": "Y_fxWri9X0cF"
      },
      "source": [
        "### Scaled Dot Product Attention\n",
        "1. Q * K.transpose\n",
        "2. K-dimension에 루트에 취함\n",
        "3. Mask 적용\n",
        "4. Softmax로 각 단어의 가중치 확률분포 attn_prob\n",
        "5. attn_prob * V"
      ]
    },
    {
      "cell_type": "code",
      "metadata": {
        "id": "kCh5nMa5Xeqs"
      },
      "source": [
        "\"\"\" scale dot product attention \"\"\"\n",
        "class ScaledDotProductAttention(nn.Module):\n",
        "    def __init__(self, config):\n",
        "        super().__init__()\n",
        "        self.config = config\n",
        "        self.dropout = nn.Dropout(config.dropout)\n",
        "        self.scale = 1 / (self.config.d_head ** 0.5)\n",
        "    \n",
        "    def forward(self, Q, K, V, attn_mask):\n",
        "        # (bs, n_head, n_q_seq, n_k_seq)\n",
        "        scores = torch.matmul(Q, K.transpose(-1, -2))\n",
        "        scores = scores.mul_(self.scale)\n",
        "        scores.masked_fill_(attn_mask, -1e9)\n",
        "        # (bs, n_head, n_q_seq, n_k_seq)\n",
        "        attn_prob = nn.Softmax(dim=-1)(scores)\n",
        "        attn_prob = self.dropout(attn_prob)\n",
        "        # (bs, n_head, n_q_seq, d_v)\n",
        "        context = torch.matmul(attn_prob, V)\n",
        "        # (bs, n_head, n_q_seq, d_v), (bs, n_head, n_q_seq, n_v_seq)\n",
        "        return context, attn_prob"
      ],
      "execution_count": 54,
      "outputs": []
    },
    {
      "cell_type": "markdown",
      "metadata": {
        "id": "0Yk-m7-4XzdM"
      },
      "source": [
        "### Multi-Head Attention\n",
        "1. Q * W_Q를 한 후 multi-head로 나누기\n",
        "2. K * W_K를 한 후 multi-head로 나누기\n",
        "3. V * W_V를 한 후 multi-head로 나누기\n",
        "4. ScaledDotProductAttention 클래스를 이용해 각 head별 Attention을 구함\n",
        "5. 여러 개의 head를 1개로 합침\n",
        "6. Linear를 취해 최종 Multi-Head Attention값을 구함 "
      ]
    },
    {
      "cell_type": "code",
      "metadata": {
        "id": "ha81jrT5ZFp2"
      },
      "source": [
        "\"\"\" multi head attention \"\"\"\n",
        "class MultiHeadAttention(nn.Module):\n",
        "    def __init__(self, config):\n",
        "        super().__init__()\n",
        "        self.config = config\n",
        "\n",
        "        self.W_Q = nn.Linear(self.config.d_hidn, self.config.n_head * self.config.d_head)\n",
        "        self.W_K = nn.Linear(self.config.d_hidn, self.config.n_head * self.config.d_head)\n",
        "        self.W_V = nn.Linear(self.config.d_hidn, self.config.n_head * self.config.d_head)\n",
        "        self.scaled_dot_attn = ScaledDotProductAttention(self.config)\n",
        "        self.linear = nn.Linear(self.config.n_head * self.config.d_head, self.config.d_hidn)\n",
        "        self.dropout = nn.Dropout(config.dropout)\n",
        "    \n",
        "    def forward(self, Q, K, V, attn_mask):\n",
        "        batch_size = Q.size(0)\n",
        "        # (bs, n_head, n_q_seq, d_head)\n",
        "        q_s = self.W_Q(Q).view(batch_size, -1, self.config.n_head, self.config.d_head).transpose(1,2)\n",
        "        # (bs, n_head, n_k_seq, d_head)\n",
        "        k_s = self.W_K(K).view(batch_size, -1, self.config.n_head, self.config.d_head).transpose(1,2)\n",
        "        # (bs, n_head, n_v_seq, d_head)\n",
        "        v_s = self.W_V(V).view(batch_size, -1, self.config.n_head, self.config.d_head).transpose(1,2)\n",
        "\n",
        "        # (bs, n_head, n_q_seq, n_k_seq)\n",
        "        attn_mask = attn_mask.unsqueeze(1).repeat(1, self.config.n_head, 1, 1)\n",
        "\n",
        "        # (bs, n_head, n_q_seq, d_head), (bs, n_head, n_q_seq, n_k_seq)\n",
        "        context, attn_prob = self.scaled_dot_attn(q_s, k_s, v_s, attn_mask)\n",
        "        # (bs, n_head, n_q_seq, h_head * d_head)\n",
        "        context = context.transpose(1, 2).contiguous().view(batch_size, -1, self.config.n_head * self.config.d_head)\n",
        "        # (bs, n_head, n_q_seq, e_embd)\n",
        "        output = self.linear(context)\n",
        "        output = self.dropout(output)\n",
        "        # (bs, n_q_seq, d_hidn), (bs, n_head, n_q_seq, n_k_seq)\n",
        "        return output, attn_prob"
      ],
      "execution_count": 55,
      "outputs": []
    },
    {
      "cell_type": "markdown",
      "metadata": {
        "id": "CF7fYnJkZMMn"
      },
      "source": [
        "### FeedForward\n",
        "1. Linear, shape을 d_ff(hidden * 4) 키우기\n",
        "2. activation(relu, gelu) 실행\n",
        "3. Linear로 shape을 hidden크기로 줄이기"
      ]
    },
    {
      "cell_type": "code",
      "metadata": {
        "id": "rGtDspv3ZLwx"
      },
      "source": [
        "\"\"\" feed forward \"\"\"\n",
        "class PoswiseFeedForwardNet(nn.Module):\n",
        "    def __init__(self, config):\n",
        "        super().__init__()\n",
        "        self.config = config\n",
        "\n",
        "        self.conv1 = nn.Conv1d(in_channels=self.config.d_hidn, out_channels=self.config.d_ff, kernel_size=1)\n",
        "        self.conv2 = nn.Conv1d(in_channels=self.config.d_ff, out_channels=self.config.d_hidn, kernel_size=1)\n",
        "        self.active = nn.functional.gelu\n",
        "        self.dropout = nn.Dropout(config.dropout)\n",
        "\n",
        "    def forward(self, inputs):\n",
        "        # (bs, d_ff, n_seq)\n",
        "        output = self.conv1(inputs.transpose(1, 2))\n",
        "        output = self.active(output)\n",
        "        # (bs, n_seq, d_hidn)\n",
        "        output = self.conv2(output).transpose(1, 2)\n",
        "        output = self.dropout(output)\n",
        "        # (bs, n_seq, d_hidn)\n",
        "        return output"
      ],
      "execution_count": 56,
      "outputs": []
    },
    {
      "cell_type": "markdown",
      "metadata": {
        "id": "6KG4LIzlZxic"
      },
      "source": [
        "## Encoder \n",
        "- layer\n",
        "  1. Multi-Head Attention 수행 (Q=K=V self-attention)\n",
        "  2. input(residual) 더해서 LayerNorm\n",
        "  3. Feed Forward\n",
        "  4. 2번 + 3번 더해서 LayerNorm\n",
        "  "
      ]
    },
    {
      "cell_type": "code",
      "metadata": {
        "id": "-AcbkaLXZioj"
      },
      "source": [
        "\"\"\" encoder layer \"\"\"\n",
        "class EncoderLayer(nn.Module):\n",
        "    def __init__(self, config):\n",
        "        super().__init__()\n",
        "        self.config = config\n",
        "\n",
        "        self.self_attn = MultiHeadAttention(self.config)\n",
        "        self.layer_norm1 = nn.LayerNorm(self.config.d_hidn, eps=self.config.layer_norm_epsilon)\n",
        "        self.pos_ffn = PoswiseFeedForwardNet(self.config)\n",
        "        self.layer_norm2 = nn.LayerNorm(self.config.d_hidn, eps=self.config.layer_norm_epsilon)\n",
        "    \n",
        "    def forward(self, inputs, attn_mask):\n",
        "        # (bs, n_enc_seq, d_hidn), (bs, n_head, n_enc_seq, n_enc_seq)\n",
        "        # multi-head attention\n",
        "        att_outputs, attn_prob = self.self_attn(inputs, inputs, inputs, attn_mask)\n",
        "        # LayerNorm\n",
        "        att_outputs = self.layer_norm1(inputs + att_outputs)\n",
        "        \n",
        "        # (bs, n_enc_seq, d_hidn)\n",
        "        # Feed Forward\n",
        "        ffn_outputs = self.pos_ffn(att_outputs)\n",
        "        # LayerNorm\n",
        "        ffn_outputs = self.layer_norm2(ffn_outputs + att_outputs)\n",
        "        # (bs, n_enc_seq, d_hidn), (bs, n_head, n_enc_seq, n_enc_seq)\n",
        "        return ffn_outputs, attn_prob"
      ],
      "execution_count": 57,
      "outputs": []
    },
    {
      "cell_type": "code",
      "metadata": {
        "id": "0SLhEAxvaUyU"
      },
      "source": [
        "\"\"\" encoder \"\"\"\n",
        "class Encoder(nn.Module):\n",
        "    def __init__(self, config):\n",
        "        super().__init__()\n",
        "        self.config = config\n",
        "\n",
        "        self.enc_emb = nn.Embedding(self.config.n_enc_vocab, self.config.d_hidn)\n",
        "        sinusoid_table = torch.FloatTensor(get_sinusoid_encoding_table(self.config.n_enc_seq + 1, self.config.d_hidn))\n",
        "        self.pos_emb = nn.Embedding.from_pretrained(sinusoid_table, freeze=True)\n",
        "\n",
        "        self.layers = nn.ModuleList([EncoderLayer(self.config) for _ in range(self.config.n_layer)])\n",
        "    \n",
        "    def forward(self, inputs):\n",
        "        # position 구하기\n",
        "        positions = torch.arange(inputs.size(1), device=inputs.device, dtype=inputs.dtype).expand(inputs.size(0), inputs.size(1)).contiguous() + 1\n",
        "        pos_mask = inputs.eq(self.config.i_pad)\n",
        "        positions.masked_fill_(pos_mask, 0)\n",
        "\n",
        "        # (bs, n_enc_seq, d_hidn)\n",
        "        # input_embs + pos_embs\n",
        "        outputs = self.enc_emb(inputs) + self.pos_emb(positions)\n",
        "\n",
        "        # (bs, n_enc_seq, n_enc_seq)\n",
        "        # attention pad mask 구하기\n",
        "        attn_mask = get_attn_pad_mask(inputs, inputs, self.config.i_pad)\n",
        "\n",
        "        attn_probs = []\n",
        "        for layer in self.layers:\n",
        "            # (bs, n_enc_seq, d_hidn), (bs, n_head, n_enc_seq, n_enc_seq)\n",
        "            # 각 layer를 연결하여 실행\n",
        "            outputs, attn_prob = layer(outputs, attn_mask)\n",
        "            attn_probs.append(attn_prob)\n",
        "        # (bs, n_enc_seq, d_hidn), [(bs, n_head, n_enc_seq, n_enc_seq)]\n",
        "        return outputs, attn_probs"
      ],
      "execution_count": 58,
      "outputs": []
    },
    {
      "cell_type": "markdown",
      "metadata": {
        "id": "2ZEGyfOWbgOn"
      },
      "source": [
        "## Decoder\n",
        "- layer\n",
        "  1. Multi-Head Attention (self-attention)\n",
        "  2. input(residual) 더해서 LayerNorm\n",
        "  3. Encoder-Decoder Multi-Head attention 수행  \n",
        "    Q: Input LayerNorm  \n",
        "    K, V: Encoder 결과  \n",
        "  4. 2번 + 3번 더해서 LayerNorm\n",
        "  5. Feed Forward\n",
        "  6. 4번 + 5번 더해서 LayerNorm\n",
        "    "
      ]
    },
    {
      "cell_type": "code",
      "metadata": {
        "id": "M60_KQn6bVZw"
      },
      "source": [
        "\"\"\" decoder layer \"\"\"\n",
        "class DecoderLayer(nn.Module):\n",
        "    def __init__(self, config):\n",
        "        super().__init__()\n",
        "        self.config = config\n",
        "\n",
        "        self.self_attn = MultiHeadAttention(self.config)\n",
        "        self.layer_norm1 = nn.LayerNorm(self.config.d_hidn, eps=self.config.layer_norm_epsilon)\n",
        "        self.dec_enc_attn = MultiHeadAttention(self.config)\n",
        "        self.layer_norm2 = nn.LayerNorm(self.config.d_hidn, eps=self.config.layer_norm_epsilon)\n",
        "        self.pos_ffn = PoswiseFeedForwardNet(self.config)\n",
        "        self.layer_norm3 = nn.LayerNorm(self.config.d_hidn, eps=self.config.layer_norm_epsilon)\n",
        "    \n",
        "    def forward(self, dec_inputs, enc_outputs, self_attn_mask, dec_enc_attn_mask):\n",
        "        # (bs, n_dec_seq, d_hidn), (bs, n_head, n_dec_seq, n_dec_seq)\n",
        "        self_att_outputs, self_attn_prob = self.self_attn(dec_inputs, dec_inputs, dec_inputs, self_attn_mask)\n",
        "        self_att_outputs = self.layer_norm1(dec_inputs + self_att_outputs)\n",
        "        # (bs, n_dec_seq, d_hidn), (bs, n_head, n_dec_seq, n_enc_seq)\n",
        "        dec_enc_att_outputs, dec_enc_attn_prob = self.dec_enc_attn(self_att_outputs, enc_outputs, enc_outputs, dec_enc_attn_mask)\n",
        "        dec_enc_att_outputs = self.layer_norm2(self_att_outputs + dec_enc_att_outputs)\n",
        "        # (bs, n_dec_seq, d_hidn)\n",
        "        ffn_outputs = self.pos_ffn(dec_enc_att_outputs)\n",
        "        ffn_outputs = self.layer_norm3(dec_enc_att_outputs + ffn_outputs)\n",
        "        # (bs, n_dec_seq, d_hidn), (bs, n_head, n_dec_seq, n_dec_seq), (bs, n_head, n_dec_seq, n_enc_seq)\n",
        "        return ffn_outputs, self_attn_prob, dec_enc_attn_prob"
      ],
      "execution_count": 59,
      "outputs": []
    },
    {
      "cell_type": "code",
      "metadata": {
        "id": "POr7G2yzcWWh"
      },
      "source": [
        "\"\"\" decoder \"\"\"\n",
        "class Decoder(nn.Module):\n",
        "    def __init__(self, config):\n",
        "        super().__init__()\n",
        "        self.config = config\n",
        "\n",
        "        self.dec_emb = nn.Embedding(self.config.n_dec_vocab, self.config.d_hidn)\n",
        "        sinusoid_table = torch.FloatTensor(get_sinusoid_encoding_table(self.config.n_dec_seq + 1, self.config.d_hidn))\n",
        "        self.pos_emb = nn.Embedding.from_pretrained(sinusoid_table, freeze=True)\n",
        "\n",
        "        self.layers = nn.ModuleList([DecoderLayer(self.config) for _ in range(self.config.n_layer)])\n",
        "    \n",
        "    def forward(self, dec_inputs, enc_inputs, enc_outputs):\n",
        "        positions = torch.arange(dec_inputs.size(1), device=dec_inputs.device, dtype=dec_inputs.dtype).expand(dec_inputs.size(0), dec_inputs.size(1)).contiguous() + 1\n",
        "        pos_mask = dec_inputs.eq(self.config.i_pad)\n",
        "        positions.masked_fill_(pos_mask, 0)\n",
        "    \n",
        "        # (bs, n_dec_seq, d_hidn)\n",
        "        dec_outputs = self.dec_emb(dec_inputs) + self.pos_emb(positions)\n",
        "\n",
        "        # (bs, n_dec_seq, n_dec_seq)\n",
        "        dec_attn_pad_mask = get_attn_pad_mask(dec_inputs, dec_inputs, self.config.i_pad)\n",
        "        # (bs, n_dec_seq, n_dec_seq)\n",
        "        dec_attn_decoder_mask = get_attn_decoder_mask(dec_inputs)\n",
        "        # (bs, n_dec_seq, n_dec_seq)\n",
        "        dec_self_attn_mask = torch.gt((dec_attn_pad_mask + dec_attn_decoder_mask), 0)\n",
        "        # (bs, n_dec_seq, n_enc_seq)\n",
        "        dec_enc_attn_mask = get_attn_pad_mask(dec_inputs, enc_inputs, self.config.i_pad)\n",
        "\n",
        "        self_attn_probs, dec_enc_attn_probs = [], []\n",
        "        for layer in self.layers:\n",
        "            # (bs, n_dec_seq, d_hidn), (bs, n_dec_seq, n_dec_seq), (bs, n_dec_seq, n_enc_seq)\n",
        "            dec_outputs, self_attn_prob, dec_enc_attn_prob = layer(dec_outputs, enc_outputs, dec_self_attn_mask, dec_enc_attn_mask)\n",
        "            self_attn_probs.append(self_attn_prob)\n",
        "            dec_enc_attn_probs.append(dec_enc_attn_prob)\n",
        "        # (bs, n_dec_seq, d_hidn), [(bs, n_dec_seq, n_dec_seq)], [(bs, n_dec_seq, n_enc_seq)]S\n",
        "        return dec_outputs, self_attn_probs, dec_enc_attn_probs"
      ],
      "execution_count": 60,
      "outputs": []
    },
    {
      "cell_type": "markdown",
      "metadata": {
        "id": "mw4rIQ07c1-v"
      },
      "source": [
        "## Transformer"
      ]
    },
    {
      "cell_type": "code",
      "metadata": {
        "id": "BiH1LDJKc00B"
      },
      "source": [
        "\"\"\" transformer \"\"\"\n",
        "class Transformer(nn.Module):\n",
        "    def __init__(self, config):\n",
        "        super().__init__()\n",
        "        self.config = config\n",
        "\n",
        "        self.encoder = Encoder(self.config)\n",
        "        self.decoder = Decoder(self.config)\n",
        "    \n",
        "    def forward(self, enc_inputs, dec_inputs):\n",
        "        # (bs, n_enc_seq, d_hidn), [(bs, n_head, n_enc_seq, n_enc_seq)]\n",
        "        enc_outputs, enc_self_attn_probs = self.encoder(enc_inputs)\n",
        "        # (bs, n_seq, d_hidn), [(bs, n_head, n_dec_seq, n_dec_seq)], [(bs, n_head, n_dec_seq, n_enc_seq)]\n",
        "        dec_outputs, dec_self_attn_probs, dec_enc_attn_probs = self.decoder(dec_inputs, enc_inputs, enc_outputs)\n",
        "        # (bs, n_dec_seq, n_dec_vocab), [(bs, n_head, n_enc_seq, n_enc_seq)], [(bs, n_head, n_dec_seq, n_dec_seq)], [(bs, n_head, n_dec_seq, n_enc_seq)]\n",
        "        return dec_outputs, enc_self_attn_probs, dec_self_attn_probs, dec_enc_attn_probs"
      ],
      "execution_count": 61,
      "outputs": []
    },
    {
      "cell_type": "markdown",
      "metadata": {
        "id": "s6c3-XhhdBy8"
      },
      "source": [
        "# 네이버 영화 감정분석 분류"
      ]
    },
    {
      "cell_type": "code",
      "metadata": {
        "id": "crp8Slr2dBge"
      },
      "source": [
        "class MovieClassification(nn.Module):\n",
        "    def __init__(self, config):\n",
        "        super().__init__()\n",
        "        self.config = config\n",
        "\n",
        "        self.transformer = Transformer(self.config)\n",
        "        self.projection = nn.Linear(self.config.d_hidn, self.config.n_output, bias=False)\n",
        "    \n",
        "    def forward(self, enc_inputs, dec_inputs):\n",
        "        # (bs, n_dec_seq, d_hidn), [(bs, n_head, n_enc_seq, n_enc_seq)], [(bs, n_head, n_dec_seq, n_dec_seq)], [(bs, n_head, n_dec_seq, n_enc_seq)]\n",
        "        dec_outputs, enc_self_attn_probs, dec_self_attn_probs, dec_enc_attn_probs = self.transformer(enc_inputs, dec_inputs)\n",
        "        # (bs, d_hidn)\n",
        "        dec_outputs, _ = torch.max(dec_outputs, dim=1)\n",
        "        # (bs, n_output)\n",
        "        logits = self.projection(dec_outputs)\n",
        "        # (bs, n_output), [(bs, n_head, n_enc_seq, n_enc_seq)], [(bs, n_head, n_dec_seq, n_dec_seq)], [(bs, n_head, n_dec_seq, n_enc_seq)]\n",
        "        return logits, enc_self_attn_probs, dec_self_attn_probs, dec_enc_attn_probs"
      ],
      "execution_count": 62,
      "outputs": []
    },
    {
      "cell_type": "code",
      "metadata": {
        "id": "4ODK7ZGJdaZ1"
      },
      "source": [
        "\"\"\" 영화 분류 데이터셋 \"\"\"\n",
        "class MovieDataSet(torch.utils.data.Dataset):\n",
        "    def __init__(self, vocab, infile):\n",
        "        self.vocab = vocab\n",
        "        self.labels = []\n",
        "        self.sentences = []\n",
        "\n",
        "        line_cnt = 0\n",
        "        with open(infile, \"r\") as f:\n",
        "            for line in f:\n",
        "                line_cnt += 1\n",
        "\n",
        "        with open(infile, \"r\") as f:\n",
        "            for i, line in enumerate(tqdm(f, total=line_cnt, desc=f\"Loading {infile}\", unit=\" lines\")):\n",
        "                data = json.loads(line)\n",
        "                self.labels.append(data[\"label\"])\n",
        "                self.sentences.append([vocab.piece_to_id(p) for p in data[\"doc\"]])\n",
        "    \n",
        "    def __len__(self):\n",
        "        assert len(self.labels) == len(self.sentences)\n",
        "        return len(self.labels)\n",
        "    \n",
        "    def __getitem__(self, item):\n",
        "        return (torch.tensor(self.labels[item]),\n",
        "                torch.tensor(self.sentences[item]),\n",
        "                torch.tensor([self.vocab.piece_to_id(\"[BOS]\")]))"
      ],
      "execution_count": 63,
      "outputs": []
    },
    {
      "cell_type": "code",
      "metadata": {
        "id": "yxBtsf_6dBX6"
      },
      "source": [
        "\"\"\" movie data collate_fn \"\"\"\n",
        "def movie_collate_fn(inputs):\n",
        "    labels, enc_inputs, dec_inputs = list(zip(*inputs))\n",
        "\n",
        "    enc_inputs = torch.nn.utils.rnn.pad_sequence(enc_inputs, batch_first=True, padding_value=0)\n",
        "    dec_inputs = torch.nn.utils.rnn.pad_sequence(dec_inputs, batch_first=True, padding_value=0)\n",
        "\n",
        "    batch = [\n",
        "        torch.stack(labels, dim=0),\n",
        "        enc_inputs,\n",
        "        dec_inputs,\n",
        "    ]\n",
        "    return batch"
      ],
      "execution_count": 64,
      "outputs": []
    },
    {
      "cell_type": "code",
      "metadata": {
        "colab": {
          "base_uri": "https://localhost:8080/"
        },
        "id": "NaRxG-FxdbsF",
        "outputId": "c5f74a80-485d-4ef5-b342-5cff2a8a671c"
      },
      "source": [
        "batch_size = 128\n",
        "train_dataset = MovieDataSet(vocab, path + \"ratings_train.json\")\n",
        "train_loader = torch.utils.data.DataLoader(train_dataset, batch_size=batch_size, shuffle=True, collate_fn=movie_collate_fn)\n",
        "test_dataset = MovieDataSet(vocab, path + \"ratings_test.json\")\n",
        "test_loader = torch.utils.data.DataLoader(test_dataset, batch_size=batch_size, shuffle=False, collate_fn=movie_collate_fn)"
      ],
      "execution_count": 65,
      "outputs": [
        {
          "output_type": "stream",
          "text": [
            "Loading /content/drive/MyDrive/네이버 영화 분류/ratings_train.json: 100%|██████████| 149995/149995 [00:05<00:00, 28245.76 lines/s]\n",
            "Loading /content/drive/MyDrive/네이버 영화 분류/ratings_test.json: 100%|██████████| 49997/49997 [00:01<00:00, 29462.45 lines/s]\n"
          ],
          "name": "stderr"
        }
      ]
    },
    {
      "cell_type": "code",
      "metadata": {
        "id": "Kn3FeQ29djMG"
      },
      "source": [
        "\"\"\" 모델 epoch 평가 \"\"\"\n",
        "def eval_epoch(config, model, data_loader):\n",
        "    matchs = []\n",
        "    model.eval()\n",
        "\n",
        "    n_word_total = 0\n",
        "    n_correct_total = 0\n",
        "    with tqdm(total=len(data_loader), desc=f\"Valid\") as pbar:\n",
        "        for i, value in enumerate(data_loader):\n",
        "            labels, enc_inputs, dec_inputs = map(lambda v: v.to(config.device), value)\n",
        "\n",
        "            outputs = model(enc_inputs, dec_inputs)\n",
        "            logits = outputs[0]\n",
        "            _, indices = logits.max(1)\n",
        "\n",
        "            match = torch.eq(indices, labels).detach()\n",
        "            matchs.extend(match.cpu())\n",
        "            accuracy = np.sum(matchs) / len(matchs) if 0 < len(matchs) else 0\n",
        "\n",
        "            pbar.update(1)\n",
        "            pbar.set_postfix_str(f\"Acc: {accuracy:.3f}\")\n",
        "    return np.sum(matchs) / len(matchs) if 0 < len(matchs) else 0"
      ],
      "execution_count": 66,
      "outputs": []
    },
    {
      "cell_type": "code",
      "metadata": {
        "id": "U7F_XBFzdpIg"
      },
      "source": [
        "\"\"\" 모델 epoch 학습 \"\"\"\n",
        "def train_epoch(config, epoch, model, criterion, optimizer, train_loader):\n",
        "    losses = []\n",
        "    model.train()\n",
        "\n",
        "    with tqdm(total=len(train_loader), desc=f\"Train {epoch}\") as pbar:\n",
        "        for i, value in enumerate(train_loader):\n",
        "            labels, enc_inputs, dec_inputs = map(lambda v: v.to(config.device), value)\n",
        "\n",
        "            optimizer.zero_grad()\n",
        "            outputs = model(enc_inputs, dec_inputs)\n",
        "            logits = outputs[0]\n",
        "\n",
        "            loss = criterion(logits, labels)\n",
        "            loss_val = loss.item()\n",
        "            losses.append(loss_val)\n",
        "\n",
        "            loss.backward()\n",
        "            optimizer.step()\n",
        "\n",
        "            pbar.update(1)\n",
        "            pbar.set_postfix_str(f\"Loss: {loss_val:.3f} ({np.mean(losses):.3f})\")\n",
        "    return np.mean(losses)"
      ],
      "execution_count": 67,
      "outputs": []
    },
    {
      "cell_type": "code",
      "metadata": {
        "colab": {
          "base_uri": "https://localhost:8080/"
        },
        "id": "aPpITxKndtDg",
        "outputId": "f7744079-c5fa-4380-ff74-e58ef907267c"
      },
      "source": [
        "config.device = torch.device(\"cuda\" if torch.cuda.is_available() else \"cpu\")\n",
        "config.n_output = 2 # 긍정, 부정\n",
        "print(config)\n",
        "\n",
        "learning_rate = 5e-5\n",
        "n_epoch = 10"
      ],
      "execution_count": 68,
      "outputs": [
        {
          "output_type": "stream",
          "text": [
            "{'n_enc_vocab': 8007, 'n_dec_vocab': 8007, 'n_enc_seq': 256, 'n_dec_seq': 256, 'n_layer': 6, 'd_hidn': 256, 'i_pad': 0, 'd_ff': 1024, 'n_head': 4, 'd_head': 64, 'dropout': 0.1, 'layer_norm_epsilon': 1e-12, 'device': device(type='cuda'), 'n_output': 2}\n"
          ],
          "name": "stdout"
        }
      ]
    },
    {
      "cell_type": "code",
      "metadata": {
        "colab": {
          "base_uri": "https://localhost:8080/"
        },
        "id": "IJhQ4dSGdwHB",
        "outputId": "48710c5b-408b-46f3-dcb8-456843185795"
      },
      "source": [
        "''' 모델 평가 '''\n",
        "model = MovieClassification(config)\n",
        "model.to(config.device)\n",
        "\n",
        "criterion = torch.nn.CrossEntropyLoss()\n",
        "optimizer = torch.optim.Adam(model.parameters(), lr=learning_rate)\n",
        "\n",
        "losses, scores = [], []\n",
        "for epoch in range(n_epoch):\n",
        "    loss = train_epoch(config, epoch, model, criterion, optimizer, train_loader)\n",
        "    score = eval_epoch(config, model, test_loader)\n",
        "\n",
        "    losses.append(loss)\n",
        "    scores.append(score)"
      ],
      "execution_count": 69,
      "outputs": [
        {
          "output_type": "stream",
          "text": [
            "Train 0: 100%|██████████| 1172/1172 [02:13<00:00,  8.77it/s, Loss: 0.419 (0.484)]\n",
            "Valid: 100%|██████████| 391/391 [00:32<00:00, 11.90it/s, Acc: 0.799]\n",
            "Train 1: 100%|██████████| 1172/1172 [02:12<00:00,  8.84it/s, Loss: 0.358 (0.403)]\n",
            "Valid: 100%|██████████| 391/391 [00:32<00:00, 11.91it/s, Acc: 0.814]\n",
            "Train 2: 100%|██████████| 1172/1172 [02:11<00:00,  8.90it/s, Loss: 0.349 (0.377)]\n",
            "Valid: 100%|██████████| 391/391 [00:32<00:00, 11.85it/s, Acc: 0.823]\n",
            "Train 3: 100%|██████████| 1172/1172 [02:11<00:00,  8.89it/s, Loss: 0.354 (0.355)]\n",
            "Valid: 100%|██████████| 391/391 [00:32<00:00, 11.96it/s, Acc: 0.826]\n",
            "Train 4: 100%|██████████| 1172/1172 [02:11<00:00,  8.89it/s, Loss: 0.355 (0.334)]\n",
            "Valid: 100%|██████████| 391/391 [00:32<00:00, 11.93it/s, Acc: 0.830]\n",
            "Train 5: 100%|██████████| 1172/1172 [02:11<00:00,  8.89it/s, Loss: 0.222 (0.313)]\n",
            "Valid: 100%|██████████| 391/391 [00:32<00:00, 12.02it/s, Acc: 0.831]\n",
            "Train 6: 100%|██████████| 1172/1172 [02:11<00:00,  8.88it/s, Loss: 0.351 (0.291)]\n",
            "Valid: 100%|██████████| 391/391 [00:32<00:00, 11.91it/s, Acc: 0.833]\n",
            "Train 7: 100%|██████████| 1172/1172 [02:11<00:00,  8.88it/s, Loss: 0.223 (0.270)]\n",
            "Valid: 100%|██████████| 391/391 [00:33<00:00, 11.79it/s, Acc: 0.834]\n",
            "Train 8: 100%|██████████| 1172/1172 [02:11<00:00,  8.90it/s, Loss: 0.322 (0.247)]\n",
            "Valid: 100%|██████████| 391/391 [00:32<00:00, 11.89it/s, Acc: 0.834]\n",
            "Train 9: 100%|██████████| 1172/1172 [02:12<00:00,  8.86it/s, Loss: 0.159 (0.224)]\n",
            "Valid: 100%|██████████| 391/391 [00:33<00:00, 11.78it/s, Acc: 0.830]\n"
          ],
          "name": "stderr"
        }
      ]
    },
    {
      "cell_type": "code",
      "metadata": {
        "id": "9jn7vmK6d3UO",
        "colab": {
          "base_uri": "https://localhost:8080/",
          "height": 621
        },
        "outputId": "b903f0ee-7a58-4c1a-9b93-e624262616bd"
      },
      "source": [
        "# table\n",
        "data = {\n",
        "    \"loss\": losses,\n",
        "    \"score\": scores\n",
        "}\n",
        "df = pd.DataFrame(data)\n",
        "display(df)\n",
        "\n",
        "# graph\n",
        "plt.figure(figsize=[12, 4])\n",
        "plt.plot(losses, label=\"loss\")\n",
        "plt.plot(scores, label=\"score\")\n",
        "plt.legend()\n",
        "plt.xlabel('Epoch')\n",
        "plt.ylabel('Value')\n",
        "plt.show()"
      ],
      "execution_count": 70,
      "outputs": [
        {
          "output_type": "display_data",
          "data": {
            "text/html": [
              "<div>\n",
              "<style scoped>\n",
              "    .dataframe tbody tr th:only-of-type {\n",
              "        vertical-align: middle;\n",
              "    }\n",
              "\n",
              "    .dataframe tbody tr th {\n",
              "        vertical-align: top;\n",
              "    }\n",
              "\n",
              "    .dataframe thead th {\n",
              "        text-align: right;\n",
              "    }\n",
              "</style>\n",
              "<table border=\"1\" class=\"dataframe\">\n",
              "  <thead>\n",
              "    <tr style=\"text-align: right;\">\n",
              "      <th></th>\n",
              "      <th>loss</th>\n",
              "      <th>score</th>\n",
              "    </tr>\n",
              "  </thead>\n",
              "  <tbody>\n",
              "    <tr>\n",
              "      <th>0</th>\n",
              "      <td>0.483795</td>\n",
              "      <td>0.798868</td>\n",
              "    </tr>\n",
              "    <tr>\n",
              "      <th>1</th>\n",
              "      <td>0.402647</td>\n",
              "      <td>0.813749</td>\n",
              "    </tr>\n",
              "    <tr>\n",
              "      <th>2</th>\n",
              "      <td>0.377335</td>\n",
              "      <td>0.822669</td>\n",
              "    </tr>\n",
              "    <tr>\n",
              "      <th>3</th>\n",
              "      <td>0.354886</td>\n",
              "      <td>0.826090</td>\n",
              "    </tr>\n",
              "    <tr>\n",
              "      <th>4</th>\n",
              "      <td>0.334256</td>\n",
              "      <td>0.829570</td>\n",
              "    </tr>\n",
              "    <tr>\n",
              "      <th>5</th>\n",
              "      <td>0.312750</td>\n",
              "      <td>0.831370</td>\n",
              "    </tr>\n",
              "    <tr>\n",
              "      <th>6</th>\n",
              "      <td>0.290962</td>\n",
              "      <td>0.832590</td>\n",
              "    </tr>\n",
              "    <tr>\n",
              "      <th>7</th>\n",
              "      <td>0.270384</td>\n",
              "      <td>0.834210</td>\n",
              "    </tr>\n",
              "    <tr>\n",
              "      <th>8</th>\n",
              "      <td>0.246553</td>\n",
              "      <td>0.834310</td>\n",
              "    </tr>\n",
              "    <tr>\n",
              "      <th>9</th>\n",
              "      <td>0.223530</td>\n",
              "      <td>0.829650</td>\n",
              "    </tr>\n",
              "  </tbody>\n",
              "</table>\n",
              "</div>"
            ],
            "text/plain": [
              "       loss     score\n",
              "0  0.483795  0.798868\n",
              "1  0.402647  0.813749\n",
              "2  0.377335  0.822669\n",
              "3  0.354886  0.826090\n",
              "4  0.334256  0.829570\n",
              "5  0.312750  0.831370\n",
              "6  0.290962  0.832590\n",
              "7  0.270384  0.834210\n",
              "8  0.246553  0.834310\n",
              "9  0.223530  0.829650"
            ]
          },
          "metadata": {
            "tags": []
          }
        },
        {
          "output_type": "display_data",
          "data": {
            "image/png": "[encoded data removed]",
            "text/plain": [
              "<Figure size 864x288 with 1 Axes>"
            ]
          },
          "metadata": {
            "tags": [],
            "needs_background": "light"
          }
        }
      ]
    },
    {
      "cell_type": "code",
      "metadata": {
        "id": "vrhpnTT9eJHT"
      },
      "source": [
        ""
      ],
      "execution_count": 70,
      "outputs": []
    }
  ]
}